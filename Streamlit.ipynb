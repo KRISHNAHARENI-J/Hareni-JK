{
  "nbformat": 4,
  "nbformat_minor": 0,
  "metadata": {
    "colab": {
      "provenance": [],
      "authorship_tag": "ABX9TyPcFu5mwy8j+wiOIDDeH0wd",
      "include_colab_link": true
    },
    "kernelspec": {
      "name": "python3",
      "display_name": "Python 3"
    },
    "language_info": {
      "name": "python"
    }
  },
  "cells": [
    {
      "cell_type": "markdown",
      "metadata": {
        "id": "view-in-github",
        "colab_type": "text"
      },
      "source": [
        "<a href=\"https://colab.research.google.com/github/KRISHNAHARENI-J/Hareni-JK/blob/main/Streamlit.ipynb\" target=\"_parent\"><img src=\"https://colab.research.google.com/assets/colab-badge.svg\" alt=\"Open In Colab\"/></a>"
      ]
    },
    {
      "cell_type": "code",
      "execution_count": 25,
      "metadata": {
        "colab": {
          "base_uri": "https://localhost:8080/"
        },
        "id": "aWB4UY0p2_bE",
        "outputId": "218b045e-6035-4fa1-db8b-12dde270098e"
      },
      "outputs": [
        {
          "output_type": "stream",
          "name": "stdout",
          "text": [
            "Drive already mounted at /content/drive; to attempt to forcibly remount, call drive.mount(\"/content/drive\", force_remount=True).\n"
          ]
        }
      ],
      "source": [
        "from google.colab import drive\n",
        "drive.mount('/content/drive')"
      ]
    },
    {
      "cell_type": "code",
      "source": [
        "  !pip install streamlit"
      ],
      "metadata": {
        "colab": {
          "base_uri": "https://localhost:8080/"
        },
        "id": "7wAM4sRi4GMA",
        "outputId": "67d9ebbe-be31-4bb9-92c4-a1c8eb442656"
      },
      "execution_count": 26,
      "outputs": [
        {
          "output_type": "stream",
          "name": "stdout",
          "text": [
            "Requirement already satisfied: streamlit in /usr/local/lib/python3.12/dist-packages (1.49.1)\n",
            "Requirement already satisfied: altair!=5.4.0,!=5.4.1,<6,>=4.0 in /usr/local/lib/python3.12/dist-packages (from streamlit) (5.5.0)\n",
            "Requirement already satisfied: blinker<2,>=1.5.0 in /usr/local/lib/python3.12/dist-packages (from streamlit) (1.9.0)\n",
            "Requirement already satisfied: cachetools<7,>=4.0 in /usr/local/lib/python3.12/dist-packages (from streamlit) (5.5.2)\n",
            "Requirement already satisfied: click<9,>=7.0 in /usr/local/lib/python3.12/dist-packages (from streamlit) (8.2.1)\n",
            "Requirement already satisfied: numpy<3,>=1.23 in /usr/local/lib/python3.12/dist-packages (from streamlit) (2.0.2)\n",
            "Requirement already satisfied: packaging<26,>=20 in /usr/local/lib/python3.12/dist-packages (from streamlit) (25.0)\n",
            "Requirement already satisfied: pandas<3,>=1.4.0 in /usr/local/lib/python3.12/dist-packages (from streamlit) (2.2.2)\n",
            "Requirement already satisfied: pillow<12,>=7.1.0 in /usr/local/lib/python3.12/dist-packages (from streamlit) (11.3.0)\n",
            "Requirement already satisfied: protobuf<7,>=3.20 in /usr/local/lib/python3.12/dist-packages (from streamlit) (5.29.5)\n",
            "Requirement already satisfied: pyarrow>=7.0 in /usr/local/lib/python3.12/dist-packages (from streamlit) (18.1.0)\n",
            "Requirement already satisfied: requests<3,>=2.27 in /usr/local/lib/python3.12/dist-packages (from streamlit) (2.32.4)\n",
            "Requirement already satisfied: tenacity<10,>=8.1.0 in /usr/local/lib/python3.12/dist-packages (from streamlit) (8.5.0)\n",
            "Requirement already satisfied: toml<2,>=0.10.1 in /usr/local/lib/python3.12/dist-packages (from streamlit) (0.10.2)\n",
            "Requirement already satisfied: typing-extensions<5,>=4.4.0 in /usr/local/lib/python3.12/dist-packages (from streamlit) (4.15.0)\n",
            "Requirement already satisfied: watchdog<7,>=2.1.5 in /usr/local/lib/python3.12/dist-packages (from streamlit) (6.0.0)\n",
            "Requirement already satisfied: gitpython!=3.1.19,<4,>=3.0.7 in /usr/local/lib/python3.12/dist-packages (from streamlit) (3.1.45)\n",
            "Requirement already satisfied: pydeck<1,>=0.8.0b4 in /usr/local/lib/python3.12/dist-packages (from streamlit) (0.9.1)\n",
            "Requirement already satisfied: tornado!=6.5.0,<7,>=6.0.3 in /usr/local/lib/python3.12/dist-packages (from streamlit) (6.4.2)\n",
            "Requirement already satisfied: jinja2 in /usr/local/lib/python3.12/dist-packages (from altair!=5.4.0,!=5.4.1,<6,>=4.0->streamlit) (3.1.6)\n",
            "Requirement already satisfied: jsonschema>=3.0 in /usr/local/lib/python3.12/dist-packages (from altair!=5.4.0,!=5.4.1,<6,>=4.0->streamlit) (4.25.1)\n",
            "Requirement already satisfied: narwhals>=1.14.2 in /usr/local/lib/python3.12/dist-packages (from altair!=5.4.0,!=5.4.1,<6,>=4.0->streamlit) (2.4.0)\n",
            "Requirement already satisfied: gitdb<5,>=4.0.1 in /usr/local/lib/python3.12/dist-packages (from gitpython!=3.1.19,<4,>=3.0.7->streamlit) (4.0.12)\n",
            "Requirement already satisfied: python-dateutil>=2.8.2 in /usr/local/lib/python3.12/dist-packages (from pandas<3,>=1.4.0->streamlit) (2.9.0.post0)\n",
            "Requirement already satisfied: pytz>=2020.1 in /usr/local/lib/python3.12/dist-packages (from pandas<3,>=1.4.0->streamlit) (2025.2)\n",
            "Requirement already satisfied: tzdata>=2022.7 in /usr/local/lib/python3.12/dist-packages (from pandas<3,>=1.4.0->streamlit) (2025.2)\n",
            "Requirement already satisfied: charset_normalizer<4,>=2 in /usr/local/lib/python3.12/dist-packages (from requests<3,>=2.27->streamlit) (3.4.3)\n",
            "Requirement already satisfied: idna<4,>=2.5 in /usr/local/lib/python3.12/dist-packages (from requests<3,>=2.27->streamlit) (3.10)\n",
            "Requirement already satisfied: urllib3<3,>=1.21.1 in /usr/local/lib/python3.12/dist-packages (from requests<3,>=2.27->streamlit) (2.5.0)\n",
            "Requirement already satisfied: certifi>=2017.4.17 in /usr/local/lib/python3.12/dist-packages (from requests<3,>=2.27->streamlit) (2025.8.3)\n",
            "Requirement already satisfied: smmap<6,>=3.0.1 in /usr/local/lib/python3.12/dist-packages (from gitdb<5,>=4.0.1->gitpython!=3.1.19,<4,>=3.0.7->streamlit) (5.0.2)\n",
            "Requirement already satisfied: MarkupSafe>=2.0 in /usr/local/lib/python3.12/dist-packages (from jinja2->altair!=5.4.0,!=5.4.1,<6,>=4.0->streamlit) (3.0.2)\n",
            "Requirement already satisfied: attrs>=22.2.0 in /usr/local/lib/python3.12/dist-packages (from jsonschema>=3.0->altair!=5.4.0,!=5.4.1,<6,>=4.0->streamlit) (25.3.0)\n",
            "Requirement already satisfied: jsonschema-specifications>=2023.03.6 in /usr/local/lib/python3.12/dist-packages (from jsonschema>=3.0->altair!=5.4.0,!=5.4.1,<6,>=4.0->streamlit) (2025.9.1)\n",
            "Requirement already satisfied: referencing>=0.28.4 in /usr/local/lib/python3.12/dist-packages (from jsonschema>=3.0->altair!=5.4.0,!=5.4.1,<6,>=4.0->streamlit) (0.36.2)\n",
            "Requirement already satisfied: rpds-py>=0.7.1 in /usr/local/lib/python3.12/dist-packages (from jsonschema>=3.0->altair!=5.4.0,!=5.4.1,<6,>=4.0->streamlit) (0.27.1)\n",
            "Requirement already satisfied: six>=1.5 in /usr/local/lib/python3.12/dist-packages (from python-dateutil>=2.8.2->pandas<3,>=1.4.0->streamlit) (1.17.0)\n"
          ]
        }
      ]
    },
    {
      "cell_type": "code",
      "source": [
        "\n",
        "%%writefile streamlitapp.py\n",
        "import streamlit as st\n",
        "import pandas as pd\n",
        "import numpy as np\n",
        "import matplotlib.pyplot as plt\n",
        "\n",
        "# Set Page Configuration\n",
        "st.set_page_config(page_title=\"Streamlit Practice App\", page_icon=\"📝\", layout=\"centered\")\n",
        "\n",
        "# Title & Header\n",
        "st.title(\"📝 Streamlit Practice App\")\n",
        "st.header(\"Welcome to Your First Streamlit App\")\n",
        "st.subheader(\"Let's Explore Streamlit Features\")\n",
        "st.write(\"This app demonstrates various Streamlit components for user inputs, outputs, charts, and file handling.\")\n",
        "\n",
        "# Text Input\n",
        "name = st.text_input(\"Enter your name:\", \"Type here...\")\n",
        "st.write(f\"👋 Hello, {name}!\")\n",
        "\n",
        "# Number Input\n",
        "age = st.number_input(\"Enter your age:\", min_value=0, max_value=120, value=25)\n",
        "\n",
        "# Dropdown (Selectbox)\n",
        "color = st.selectbox(\"Choose your favorite color:\", [\"Red\", \"Blue\", \"Green\", \"Yellow\", \"Black\"])\n",
        "st.write(f\"Your favorite color is **{color}**.\")\n",
        "\n",
        "# Checkbox\n",
        "if st.checkbox(\"I agree to the terms and conditions\"):\n",
        "    st.success(\"✅ Thank you for agreeing!\")\n",
        "\n",
        "# Radio Button\n",
        "status = st.radio(\"What is your status?\", [\"Student\", \"Working\", \"Other\"])\n",
        "st.write(f\"Status: {status}\")\n",
        "\n",
        "# Slider\n",
        "rating = st.slider(\"Rate this app:\", 0, 10, 5)\n",
        "st.write(f\"You rated this app: {rating}/10\")\n",
        "\n",
        "# File Uploader\n",
        "uploaded_file = st.file_uploader(\"Upload a CSV file (optional to see DataFrame preview):\")\n",
        "if uploaded_file is not None:\n",
        "    df = pd.read_csv(uploaded_file)\n",
        "    st.write(\"📊 Uploaded Data Preview:\")\n",
        "    st.dataframe(df)\n",
        "\n",
        "# Button with Action\n",
        "if st.button(\"Click Me!\"):\n",
        "    st.balloons()\n",
        "    st.success(\"🎉 You clicked the button!\")\n",
        "\n",
        "# Chart Example\n",
        "st.subheader(\"📈 Random Data Chart Example\")\n",
        "chart_data = pd.DataFrame(np.random.randn(20, 3), columns=['A', 'B', 'C'])\n",
        "st.line_chart(chart_data)\n",
        "\n",
        "# Matplotlib Plot\n",
        "st.subheader(\"📊 Matplotlib Example\")\n",
        "fig, ax = plt.subplots()\n",
        "ax.hist(np.random.randn(100), bins=15, color='skyblue', edgecolor='black')\n",
        "st.pyplot(fig)\n",
        "\n",
        "# Image Display\n",
        "st.subheader(\"🖼 Displaying an Image\")\n",
        "st.image(\"https://i.postimg.cc/tgp6npLp/9h1h4y3k.png\", width=300)\n",
        "\n",
        "# Markdown Example\n",
        "st.markdown(\"\"\"\n",
        "### About This App:\n",
        "- ✅ Created using Streamlit\n",
        "- ✅ Demonstrates Inputs, Outputs, Charts, and Images\n",
        "- ✅ Deployable to Streamlit Cloud\n",
        "\"\"\")\n",
        "\n",
        "# Session State Example\n",
        "if 'count' not in st.session_state:\n",
        "    st.session_state['count'] = 0\n",
        "\n",
        "if st.button(\"Increase Counter\"):\n",
        "    st.session_state['count'] += 1\n",
        "\n",
        "st.write(f\"🔢 Counter Value: {st.session_state['count']}\")\n",
        "\n",
        "# Footer\n",
        "st.markdown(\"---\")\n",
        "st.markdown(\"Made with ❤️ using Streamlit\")\n",
        "\n"
      ],
      "metadata": {
        "colab": {
          "base_uri": "https://localhost:8080/"
        },
        "id": "bKOazCHo4XRu",
        "outputId": "fc216f9c-d75d-4422-e51f-f7794b60e23b"
      },
      "execution_count": 27,
      "outputs": [
        {
          "output_type": "stream",
          "name": "stdout",
          "text": [
            "Overwriting streamlitapp.py\n"
          ]
        }
      ]
    },
    {
      "cell_type": "code",
      "source": [
        "\n",
        "#for Colab Version only\n",
        "!curl ipv4.icanhazip.com"
      ],
      "metadata": {
        "colab": {
          "base_uri": "https://localhost:8080/"
        },
        "id": "2NYsnkzP5fKW",
        "outputId": "c9f45d47-b389-4e30-d12f-e177b50800eb"
      },
      "execution_count": 30,
      "outputs": [
        {
          "output_type": "stream",
          "name": "stdout",
          "text": [
            "34.81.23.230\n"
          ]
        }
      ]
    },
    {
      "cell_type": "code",
      "source": [
        "import threading, time, subprocess\n",
        "\n",
        "def launch():\n",
        "    subprocess.Popen([\"streamlit\", \"run\", \"streamlitapp.py\"])\n",
        "threading.Thread(target=launch).start()\n",
        "time.sleep(5) # Added a 5-second sleep\n",
        "!npx localtunnel --port 8501"
      ],
      "metadata": {
        "colab": {
          "base_uri": "https://localhost:8080/"
        },
        "id": "DuhX2f4r6OfM",
        "outputId": "275a73a1-dc50-4ab2-d1fb-80b1ed095709"
      },
      "execution_count": 31,
      "outputs": [
        {
          "output_type": "stream",
          "name": "stdout",
          "text": [
            "\u001b[1G\u001b[0K⠙\u001b[1G\u001b[0K⠹\u001b[1G\u001b[0K⠸\u001b[1G\u001b[0K⠼\u001b[1G\u001b[0K⠴\u001b[1G\u001b[0K⠦\u001b[1G\u001b[0K⠧\u001b[1G\u001b[0K⠇\u001b[1G\u001b[0K⠏\u001b[1G\u001b[0K⠋\u001b[1G\u001b[0Kyour url is: https://tame-mirrors-obey.loca.lt\n",
            "^C\n"
          ]
        }
      ]
    }
  ]
}